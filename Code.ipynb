{
 "cells": [
  {
   "cell_type": "markdown",
   "metadata": {},
   "source": [
    "# Twitter Analysis to determine election sentiments in Hudson County"
   ]
  },
  {
   "cell_type": "markdown",
   "metadata": {},
   "source": [
    "* Firstly, we import the essential libraries\n",
    "* Tweepy is the Twitter client that helps with the retrieval and manipulation of Twitter posts\n",
    "* nltk and textblob are text processing libraries"
   ]
  },
  {
   "cell_type": "code",
   "execution_count": 1,
   "metadata": {},
   "outputs": [],
   "source": [
    "import os\n",
    "import pandas as pd\n",
    "import tweepy as tw\n",
    "import nltk\n",
    "from nltk.corpus import stopwords\n",
    "from nltk.tokenize import word_tokenize\n",
    "import re\n",
    "import textblob\n",
    "from textblob import TextBlob\n",
    "import numpy as np"
   ]
  },
  {
   "cell_type": "markdown",
   "metadata": {},
   "source": [
    "* We obtain the authorization parameters from our Twitter developer account\n",
    "* Then we initiate the API object direclty to interact with Twitter using the tweepy"
   ]
  },
  {
   "cell_type": "code",
   "execution_count": 2,
   "metadata": {},
   "outputs": [],
   "source": [
    "consumer_key=\"TVuAh0OA9xV3kfEVKKmgIwZjR\"\n",
    "consumer_secret=\"bRByFyYGkVmAqv8pKi6zpkvbdRxsX2PkfSLPx4pT5BeJipjYHD\"\n",
    "access_token=\"846893262-HbNLJbca0QatnG3IdiQVLIOoDN3Vxa983yKLo1XW\"\n",
    "access_token_secret=\"BVWlfKYB4JHlFSSeRN8cmJTyzzNWKLG841E9Vqwjgkf66\"\n",
    "\n",
    "auth=tw.OAuthHandler(consumer_key,consumer_secret)\n",
    "auth.set_access_token(access_token,access_token_secret)\n",
    "\n",
    "api=tw.API(auth,wait_on_rate_limit=True)"
   ]
  },
  {
   "cell_type": "markdown",
   "metadata": {},
   "source": [
    "* We put filter words \"Republicans\" and \"Democrats\" to find the sentiments associated with them\n",
    "* We further use cursor to iterate through the API and fetch the results"
   ]
  },
  {
   "cell_type": "code",
   "execution_count": 12,
   "metadata": {},
   "outputs": [],
   "source": [
    "search_words_1=\"Republicans\"\n",
    "search_words_2=\"Democrats\"\n",
    "new_search_1=search_words_1+\" -filter:retweets\"\n",
    "new_search_2=search_words_2+\" -filter:retweets\"\n",
    "\n",
    "date_since = \"2020-7-1\"\n",
    "\n",
    "tweets_1 = tw.Cursor(api.search,q=new_search_1,lang=\"en\",since=date_since,location=(74.0535,40.7453,62.31)).items(200)\n",
    "tweets_2 = tw.Cursor(api.search,q=new_search_2,lang=\"en\",since=date_since,location=(74.0535,40.7453,62.31)).items(200)\n",
    "\n",
    "user_locs_1 = [[tweet.user.screen_name, tweet.text] for tweet in tweets_1]\n",
    "user_locs_2 = [[tweet.user.screen_name, tweet.text] for tweet in tweets_2]"
   ]
  },
  {
   "cell_type": "code",
   "execution_count": 14,
   "metadata": {},
   "outputs": [],
   "source": [
    "tweet_text_1=pd.DataFrame(data=user_locs_1,columns=[\"user\",\"Tweets\"])\n",
    "tweet_text_2=pd.DataFrame(data=user_locs_2,columns=[\"user\",\"Tweets\"])"
   ]
  },
  {
   "cell_type": "markdown",
   "metadata": {},
   "source": [
    "Here, we start the process of Natural Language Processing and break the sentence in corresponding word tokens"
   ]
  },
  {
   "cell_type": "code",
   "execution_count": 24,
   "metadata": {},
   "outputs": [
    {
     "name": "stdout",
     "output_type": "stream",
     "text": [
      "['@', 'LinksNani', '@', 'MonyeWeiner', '@', 'realDonaldTrump', '@', 'GovAbbott', '@', 'LouisianaGov', 'I', 'agree', '.', 'also', ',', 'the', 'Republicans', 'had', 'nothing', 'in', 'th…', 'https', ':', '//t.co/AIJmCKbRYw']\n"
     ]
    }
   ],
   "source": [
    "trial = []\n",
    "for i in tweet_text_1[\"Tweets\"]:\n",
    "    trial.append(word_tokenize(i))\n",
    "\n",
    "word_tokens = word_tokenize(str(tweet_text_1[\"Tweets\"])) \n",
    "stop_words = set(stopwords.words('english'))\n",
    "# stop_words = list(stop_words)\n",
    "stop_words\n",
    "print(trial[0])"
   ]
  },
  {
   "cell_type": "markdown",
   "metadata": {},
   "source": [
    "We filter out the stop words here and append them to an array"
   ]
  },
  {
   "cell_type": "code",
   "execution_count": 25,
   "metadata": {},
   "outputs": [
    {
     "data": {
      "text/plain": [
       "200"
      ]
     },
     "execution_count": 25,
     "metadata": {},
     "output_type": "execute_result"
    }
   ],
   "source": [
    "array = []\n",
    "#var = [word for word in tweet_text_1[\"Tweets\"] if word not in stop_words]\n",
    "for w in trial:\n",
    "    array1 = []\n",
    "    for j in w:\n",
    "        if j.lower() not in stop_words:\n",
    "            array1.append(j)\n",
    "    array.append(array1)\n",
    "len(array)"
   ]
  },
  {
   "cell_type": "code",
   "execution_count": 26,
   "metadata": {},
   "outputs": [],
   "source": [
    "a=[]\n",
    "j=0\n",
    "for i in array:\n",
    "    a.append(\" \".join(array[j]))\n",
    "    j=j+1"
   ]
  },
  {
   "cell_type": "markdown",
   "metadata": {},
   "source": [
    "In the following part we make use of the Regular Expression library to remove noise from the data"
   ]
  },
  {
   "cell_type": "code",
   "execution_count": 27,
   "metadata": {},
   "outputs": [
    {
     "data": {
      "text/plain": [
       "'  TRUMP HATES POOR REPUBLICANS SHOWS STOPPING STIMULUS MONEY HOLDS MONEY HOSTAGE TILL   OlYWndEg'"
      ]
     },
     "execution_count": 27,
     "metadata": {},
     "output_type": "execute_result"
    }
   ],
   "source": [
    "i=0\n",
    "pattern=[]\n",
    "for j in a:\n",
    "    pattern.append(re.sub(r\"(\\@\\s\\w+)|(\\s\\.)|(\\'\\w+)|https?[A-Za-z0-9]+|([^0-9A-Za-z \\t])|(\\w+:\\/\\/\\S+)|\\d|\\b[a-zA-Z][a-zA-Z]\\b|\\b[a-zA-Z]\\b\",\"\",a[i]))\n",
    "    i=i+1\n",
    "pattern[128]"
   ]
  },
  {
   "cell_type": "code",
   "execution_count": 28,
   "metadata": {},
   "outputs": [],
   "source": [
    "def analyse_emotion(tweets):\n",
    "    analysis=TextBlob(tweets)\n",
    "    if analysis.sentiment.polarity>0:\n",
    "        return 1\n",
    "    elif analysis.sentiment.polarity==0:\n",
    "        return 0\n",
    "    else:\n",
    "        return -1\n",
    "\n",
    "z=np.array([analyse_emotion(tweet) for tweet in pattern])"
   ]
  },
  {
   "cell_type": "code",
   "execution_count": 29,
   "metadata": {},
   "outputs": [],
   "source": [
    "pattern=np.array(pattern)\n",
    "z=pd.DataFrame(z)\n",
    "pattern=pd.DataFrame(pattern)\n",
    "\n",
    "pattern[\"polarity\"]=z"
   ]
  },
  {
   "cell_type": "code",
   "execution_count": 30,
   "metadata": {},
   "outputs": [
    {
     "data": {
      "text/plain": [
       " 1    75\n",
       " 0    74\n",
       "-1    51\n",
       "Name: polarity, dtype: int64"
      ]
     },
     "execution_count": 30,
     "metadata": {},
     "output_type": "execute_result"
    }
   ],
   "source": [
    "pattern[\"polarity\"].value_counts()"
   ]
  },
  {
   "cell_type": "code",
   "execution_count": 35,
   "metadata": {},
   "outputs": [
    {
     "name": "stdout",
     "output_type": "stream",
     "text": [
      "Sentiment is positive!\n",
      "The positivity index out of 100 is : 12.0\n"
     ]
    }
   ],
   "source": [
    "sum1 = sum(pattern[\"polarity\"])\n",
    "scale_of_positivity = sum1/2\n",
    "\n",
    "if sum1>0:\n",
    "    print(\"Sentiment is positive!\")\n",
    "    print(\"The positivity index out of 100 is :\",scale_of_positivity)\n",
    "elif sum1<0:\n",
    "    print(\"Sentiment is negative!\")\n",
    "    print(\"The negativity index out of 100 is :\",scale_of_positivity)\n",
    "else:\n",
    "    print(\"Sentiment is neutral!\")"
   ]
  },
  {
   "cell_type": "markdown",
   "metadata": {},
   "source": [
    "# We conclude that the overall sentiment is slightly positive for Republicans and ___ for Democrats"
   ]
  }
 ],
 "metadata": {
  "kernelspec": {
   "display_name": "Python 3",
   "language": "python",
   "name": "python3"
  },
  "language_info": {
   "codemirror_mode": {
    "name": "ipython",
    "version": 3
   },
   "file_extension": ".py",
   "mimetype": "text/x-python",
   "name": "python",
   "nbconvert_exporter": "python",
   "pygments_lexer": "ipython3",
   "version": "3.8.3"
  }
 },
 "nbformat": 4,
 "nbformat_minor": 4
}
